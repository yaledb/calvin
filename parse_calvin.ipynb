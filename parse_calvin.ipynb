{
 "cells": [
  {
   "cell_type": "code",
   "execution_count": 1,
   "metadata": {},
   "outputs": [],
   "source": [
    "import re\n",
    "import pandas as pd\n",
    "import matplotlib.pyplot as plt\n",
    "%matplotlib inline"
   ]
  },
  {
   "cell_type": "code",
   "execution_count": 2,
   "metadata": {},
   "outputs": [],
   "source": [
    "def parse_log(calvin_path,alg):\n",
    "    with open(calvin_path) as f:\n",
    "        lines = f.readlines()\n",
    "\n",
    "    useful_lines = [line for line in lines if \"txns/sec\" in line or \"|Config|\" in line]\n",
    "\n",
    "    first = True\n",
    "    results = []\n",
    "    configs = []\n",
    "\n",
    "    for line in useful_lines:\n",
    "        if \"|Config|\" in line:\n",
    "            if not first:\n",
    "                results.append(result)\n",
    "            else:\n",
    "                first = False\n",
    "            configs.append(line)\n",
    "            result = []\n",
    "            continue\n",
    "        result.append(line)\n",
    "    results.append(result)\n",
    "\n",
    "    l_nnodes = []\n",
    "    l_dist = []\n",
    "    l_WH = []\n",
    "    l_tp = []\n",
    "    for idx in range(len(configs)):\n",
    "        config = configs[idx].strip().split(\"|\")\n",
    "        l_nnodes.append(int(config[2].split(\":\")[1]))\n",
    "        l_dist.append(int(config[3].split(\":\")[1]))\n",
    "        l_WH.append(int(config[4].split(\":\")[1]))\n",
    "        run = results[idx]\n",
    "        nodes=[]\n",
    "        txns=[]\n",
    "        if len(run) > 0:\n",
    "            for idy in range(len(run)):\n",
    "                line = run[idy]\n",
    "                txn = line.split(\": \")[1]\n",
    "                txn = re.findall('(?<=Completed )([0-9]+\\.?[0-9]*)',txn)\n",
    "                if txn:\n",
    "                    txns.append(txn[0])\n",
    "                    nodes.append(line.split(\": \")[0])\n",
    "            txns = [float(txn) for txn in txns]\n",
    "            data = {'node':nodes,'txns':txns}\n",
    "            df = pd.DataFrame(data,columns=['node','txns'])\n",
    "            if df.txns.gt(0).any():\n",
    "                df = df.iloc[df.index[df.txns>0].tolist()[0]:]\n",
    "                tp = df.groupby('node').mean().sum()[0]\n",
    "            else:\n",
    "                tp = 0\n",
    "        else:\n",
    "            tp = -1\n",
    "        l_tp.append(tp)\n",
    "\n",
    "    df_all = pd.DataFrame.from_dict({'nnodes':l_nnodes,'#WH':l_WH,'dist':l_dist,'tp':l_tp})\n",
    "    df_all['alg'] = alg\n",
    "\n",
    "    return df_all"
   ]
  },
  {
   "cell_type": "code",
   "execution_count": 3,
   "metadata": {},
   "outputs": [],
   "source": [
    "df1_calvin = parse_log(\"./round1/calvin/typescript_calvin_bak\",'Calvin')\n",
    "df2_calvin = parse_log(\"./round2/calvin/typescript_calvin_run2\",'Calvin')\n",
    "df3_calvin = parse_log(\"./round3/calvin/typescript\",'Calvin')\n",
    "df1_2pl = parse_log(\"./round1/calvin/typescript_2pl_bak\",'2pl')\n",
    "df2_2pl = parse_log(\"./round2/calvin/typescript_2pl_run2\",'2pl')\n",
    "df3_2pl = parse_log(\"./round3/calvin/typescript_2pl_run3\",'2pl')"
   ]
  },
  {
   "cell_type": "code",
   "execution_count": null,
   "metadata": {},
   "outputs": [],
   "source": [
    "fname = \"\"\n",
    "df = parse_log(fname,'Calvin')\n",
    "# df = df = parse_log(fname,'2pl')\n",
    "outname = \"out.csv\"\n",
    "df.to_csv(outname,index=False)"
   ]
  }
 ],
 "metadata": {
  "interpreter": {
   "hash": "b3ba2566441a7c06988d0923437866b63cedc61552a5af99d1f4fb67d367b25f"
  },
  "kernelspec": {
   "display_name": "Python 3.8.5 64-bit ('base': conda)",
   "name": "python3"
  },
  "language_info": {
   "codemirror_mode": {
    "name": "ipython",
    "version": 3
   },
   "file_extension": ".py",
   "mimetype": "text/x-python",
   "name": "python",
   "nbconvert_exporter": "python",
   "pygments_lexer": "ipython3",
   "version": "3.8.5"
  },
  "orig_nbformat": 4
 },
 "nbformat": 4,
 "nbformat_minor": 2
}
